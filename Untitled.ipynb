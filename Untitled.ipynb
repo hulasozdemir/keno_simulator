{
 "cells": [
  {
   "cell_type": "code",
   "execution_count": 32,
   "id": "98ee1ec0-6b95-4809-8b3d-8838cc7b47fd",
   "metadata": {},
   "outputs": [],
   "source": [
    "import numpy as np\n",
    "import os\n",
    "import matplotlib.pyplot as plt\n",
    "import pandas as pd\n",
    "import random"
   ]
  },
  {
   "cell_type": "code",
   "execution_count": 29,
   "id": "7c5b5804-2070-4640-98c1-4b01b491852d",
   "metadata": {},
   "outputs": [],
   "source": [
    "keno = pd.read_csv(\"KenoCurrentYear.csv\")"
   ]
  },
  {
   "cell_type": "code",
   "execution_count": 30,
   "id": "678588aa-29bd-4083-92dc-1b48b32fc5c8",
   "metadata": {},
   "outputs": [],
   "source": [
    "keno = keno.drop([\"PRODUCT\",\"DRAW NUMBER\",\"DRAW DATE\",\"BONUS MULTIPLIER\"],axis = 1)"
   ]
  },
  {
   "cell_type": "code",
   "execution_count": 636,
   "id": "e46652e0-3440-4cf4-bc80-32c1e340a804",
   "metadata": {},
   "outputs": [],
   "source": [
    "def drawTimes(Times, number_of_picks):\n",
    "    money = 0\n",
    "    for _ in range(1, Times):\n",
    "        money -= 2\n",
    "        nth_random_draw = random.randint(1, len(keno))\n",
    "        \n",
    "        draw = keno.iloc[nth_random_draw].values.flatten()\n",
    "        selection = random.sample(range(1,81),number_of_picks)\n",
    "        number_of_correct_guesses =  len(np.intersect1d(draw, selection))\n",
    "        if number_of_correct_guesses == number_of_picks:\n",
    "            money += 50\n",
    "        elif number_of_correct_guesses == number_of_picks - 1:\n",
    "            money += 2\n",
    "    return money"
   ]
  },
  {
   "cell_type": "code",
   "execution_count": 752,
   "id": "81a281f4-5f57-41d5-8eb6-8feb8a1447b5",
   "metadata": {},
   "outputs": [
    {
     "data": {
      "text/plain": [
       "-1160"
      ]
     },
     "execution_count": 752,
     "metadata": {},
     "output_type": "execute_result"
    }
   ],
   "source": [
    "drawTimes(1000, 3)"
   ]
  },
  {
   "cell_type": "code",
   "execution_count": null,
   "id": "17c112bb-a398-4564-a265-a7a8b5824e3c",
   "metadata": {},
   "outputs": [],
   "source": []
  }
 ],
 "metadata": {
  "kernelspec": {
   "display_name": "Python 3 (ipykernel)",
   "language": "python",
   "name": "python3"
  },
  "language_info": {
   "codemirror_mode": {
    "name": "ipython",
    "version": 3
   },
   "file_extension": ".py",
   "mimetype": "text/x-python",
   "name": "python",
   "nbconvert_exporter": "python",
   "pygments_lexer": "ipython3",
   "version": "3.9.12"
  }
 },
 "nbformat": 4,
 "nbformat_minor": 5
}
