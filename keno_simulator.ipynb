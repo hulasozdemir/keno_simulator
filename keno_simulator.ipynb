{
 "cells": [
  {
   "cell_type": "code",
   "execution_count": 1,
   "id": "98ee1ec0-6b95-4809-8b3d-8838cc7b47fd",
   "metadata": {},
   "outputs": [],
   "source": [
    "import numpy as np\n",
    "import os\n",
    "import matplotlib.pyplot as plt\n",
    "import pandas as pd\n",
    "import random\n",
    "random.seed()"
   ]
  },
  {
   "cell_type": "code",
   "execution_count": 2,
   "id": "7c5b5804-2070-4640-98c1-4b01b491852d",
   "metadata": {},
   "outputs": [],
   "source": [
    "keno2022 = pd.read_csv(\"KenoCurrentYear.csv\")\n",
    "keno2021 = pd.read_csv(\"KenoPastYears/KenoYear2021.csv\")\n",
    "keno2020 = pd.read_csv(\"KenoPastYears/KenoYear2020.csv\")\n",
    "keno2019 = pd.read_csv(\"KenoPastYears/KenoYear2019.csv\")\n",
    "keno2018 = pd.read_csv(\"KenoPastYears/KenoYear2018.csv\")\n",
    "frames = [keno2018,keno2019, keno2020, keno2021,keno2022]\n",
    "keno = pd.concat(frames)"
   ]
  },
  {
   "cell_type": "code",
   "execution_count": 3,
   "id": "678588aa-29bd-4083-92dc-1b48b32fc5c8",
   "metadata": {},
   "outputs": [],
   "source": [
    "keno = keno.drop([\"PRODUCT\",\"DRAW NUMBER\",\"DRAW DATE\"],axis = 1)"
   ]
  },
  {
   "cell_type": "code",
   "execution_count": 4,
   "id": "3923833d-9e67-4f95-a614-c4fac8aad1d9",
   "metadata": {},
   "outputs": [],
   "source": [
    "def decode_bonus_multiplier(bonus):\n",
    "    if bonus == 1:\n",
    "        return 1.5\n",
    "    elif bonus == 2:\n",
    "        return 2\n",
    "    elif bonus == 3:\n",
    "        return 5\n",
    "    elif bonus == 4:\n",
    "        return 7\n",
    "    else:\n",
    "        return 10"
   ]
  },
  {
   "cell_type": "code",
   "execution_count": 5,
   "id": "61d12e36-a228-4d17-b6a1-1d7ed1c78bac",
   "metadata": {},
   "outputs": [],
   "source": [
    "def scenarios(number_of_picks, number_of_correct_guesses):\n",
    "    prize = 0\n",
    "    \n",
    "    if number_of_picks == 1:\n",
    "        if number_of_correct_guesses == 1:\n",
    "            prize = 2\n",
    "        \n",
    "    elif number_of_picks == 2:\n",
    "        if number_of_correct_guesses == 2:\n",
    "            prize = 10\n",
    "    \n",
    "    elif number_of_picks == 3:\n",
    "        if number_of_correct_guesses == 3:\n",
    "            prize = 25\n",
    "        elif number_of_correct_guesses == 2:\n",
    "            prize = 2\n",
    "    \n",
    "    elif number_of_picks == 4:\n",
    "        if number_of_correct_guesses == 4:\n",
    "            prize = 50\n",
    "        elif number_of_correct_guesses == 3:\n",
    "            prize = 5\n",
    "        elif number_of_correct_guesses == 2:\n",
    "            prize = 1\n",
    "            \n",
    "    elif number_of_picks == 5:\n",
    "        if number_of_correct_guesses == 5:\n",
    "            prize = 500\n",
    "        elif number_of_correct_guesses == 4:\n",
    "            prize = 15\n",
    "        elif number_of_correct_guesses == 3:\n",
    "            prize = 2\n",
    "            \n",
    "    elif number_of_picks == 6:\n",
    "        if number_of_correct_guesses == 6:\n",
    "            prize = 1500\n",
    "        elif number_of_correct_guesses == 5:\n",
    "            prize = 50\n",
    "        elif number_of_correct_guesses == 4:\n",
    "            prize = 5\n",
    "        elif number_of_correct_guesses == 3:\n",
    "            prize = 1\n",
    "            \n",
    "    elif number_of_picks == 7:\n",
    "        if number_of_correct_guesses == 7:\n",
    "            prize = 5000\n",
    "        elif number_of_correct_guesses == 6:\n",
    "            prize = 150\n",
    "        elif number_of_correct_guesses == 5:\n",
    "            prize = 15\n",
    "        elif number_of_correct_guesses == 4:\n",
    "            prize = 2\n",
    "        elif number_of_correct_guesses == 3:\n",
    "            prize = 1\n",
    "        \n",
    "    elif number_of_picks == 8:\n",
    "        if number_of_correct_guesses == 8:\n",
    "            prize = 15000\n",
    "        elif number_of_correct_guesses == 7:\n",
    "            prize = 400\n",
    "        elif number_of_correct_guesses == 6:\n",
    "            prize = 50\n",
    "        elif number_of_correct_guesses == 5:\n",
    "            prize = 10\n",
    "        elif number_of_correct_guesses == 4:\n",
    "            prize = 2\n",
    "            \n",
    "    elif number_of_picks == 9:\n",
    "        if number_of_correct_guesses == 9:\n",
    "            prize = 25000\n",
    "        elif number_of_correct_guesses == 8:\n",
    "            prize = 2500\n",
    "        elif number_of_correct_guesses == 7:\n",
    "            prize = 200\n",
    "        elif number_of_correct_guesses == 6:\n",
    "            prize = 25\n",
    "        elif number_of_correct_guesses == 5:\n",
    "            prize = 4\n",
    "        elif number_of_correct_guesses == 4:\n",
    "            prize = 1\n",
    "            \n",
    "    elif number_of_picks == 10:\n",
    "        if number_of_correct_guesses == 10:\n",
    "            prize = 200000\n",
    "        elif number_of_correct_guesses == 9:\n",
    "            prize = 10000\n",
    "        elif number_of_correct_guesses == 8:\n",
    "            prize = 500\n",
    "        elif number_of_correct_guesses == 7:\n",
    "            prize = 50\n",
    "        elif number_of_correct_guesses == 6:\n",
    "            prize = 10\n",
    "        elif number_of_correct_guesses == 5:\n",
    "            prize = 3\n",
    "        elif number_of_correct_guesses == 0:\n",
    "            prize = 3\n",
    "    else:\n",
    "        print(\"Invalid number of picks. Enter a number between from 1 to 10.\")\n",
    "        prize = 0\n",
    "        \n",
    "    return prize"
   ]
  },
  {
   "cell_type": "code",
   "execution_count": 326,
   "id": "e46652e0-3440-4cf4-bc80-32c1e340a804",
   "metadata": {},
   "outputs": [],
   "source": [
    "def play_keno(starting_money, number_of_plays, number_of_picks = None, bonus_boolean = False, strategy = None):\n",
    "    \"\"\"\n",
    "    starting_money : Money you are starting with\n",
    "    number_of_plays: Specifies the number of plays\n",
    "    number_of_picks: Specific number of picks. It should between 1 to 10.\n",
    "    bonus_boolean: Bonus option, costs 1$ extra\n",
    "    strategy: Specifies strategy. None, \"look_behind\", \"fixed_et\"\n",
    "    \"\"\"\n",
    "    money = starting_money\n",
    "    \n",
    "    \n",
    "    for m in range(number_of_plays):        \n",
    "        \n",
    "        nth_random_draw = random.randint(1, len(keno)) # Select a random draw\n",
    "        draw = keno.iloc[nth_random_draw].values.flatten() # Create a list of numbers\n",
    "        draw = draw[1:] # Draw numbers\n",
    "        bonus_encoded = draw[0] # Bonus is the first element of the list. It is encoded.\n",
    "        bonus_multiplier = 1 # Default values of bonus is 1\n",
    "        money -= 1 # Each game costs 1$ to play\n",
    "\n",
    "        if bonus_boolean == True:\n",
    "            money -= 1 # It costs 1$ extra to buy Keno Bonus\n",
    "            bonus_multiplier = decode_bonus_multiplier(bonus_encoded) # Decode bonuses\n",
    "        \n",
    "        set_of_numbers = np.arange(1,81) # Numbers are from 1-80\n",
    "        \n",
    "        if strategy == None:\n",
    "            \n",
    "            \"\"\"\n",
    "            Randomly picks a set of numbers.\n",
    "            \"\"\"\n",
    "            \n",
    "            selection = random.sample(sorted(set_of_numbers), number_of_picks) # Player randomly picks numbers between 1 to 80.\n",
    "        \n",
    "        elif strategy == \"look_behind\":\n",
    "            \n",
    "            \"\"\"\n",
    "            Excludes numbers from the previous draw.\n",
    "            \n",
    "            \"\"\"\n",
    "            previous_draw = keno.iloc[nth_random_draw - 1].values.flatten() #Look up the result of previous draw\n",
    "            previous_draw = previous_draw[1:] #Previous draw numbers\n",
    "            set_of_numbers = np.setdiff1d(set_of_numbers, previous_draw) # Exclude previously drew numbers from the set\n",
    "            selection = random.sample(sorted(set_of_numbers), number_of_picks) # Pick a random set of numbers from the excluded set.\n",
    "        \n",
    "        elif strategy == \"fixed_set\":\n",
    "            \n",
    "            \"\"\"\n",
    "            Always pick a fixed set of numbers.\n",
    "            \"\"\"\n",
    "            \n",
    "            selection = np.arange(10, 10 + number_of_picks) \n",
    "            \n",
    "        \n",
    "        number_of_correct_guesses =  len(np.intersect1d(draw, selection)) # Number of correct picks\n",
    "        \n",
    "        money += bonus_multiplier * scenarios(number_of_picks, number_of_correct_guesses)\n",
    "        \n",
    "    return money"
   ]
  },
  {
   "cell_type": "code",
   "execution_count": 505,
   "id": "81a281f4-5f57-41d5-8eb6-8feb8a1447b5",
   "metadata": {},
   "outputs": [
    {
     "name": "stderr",
     "output_type": "stream",
     "text": [
      "/Users/uozdemir/miniforge3/envs/np_accelerate/lib/python3.9/site-packages/seaborn/distributions.py:2619: FutureWarning: `distplot` is a deprecated function and will be removed in a future version. Please adapt your code to use either `displot` (a figure-level function with similar flexibility) or `histplot` (an axes-level function for histograms).\n",
      "  warnings.warn(msg, FutureWarning)\n"
     ]
    },
    {
     "data": {
      "image/png": "[encoded data removed]",
      "text/plain": [
       "<Figure size 576x576 with 1 Axes>"
      ]
     },
     "metadata": {},
     "output_type": "display_data"
    }
   ],
   "source": [
    "sns.set(rc = {'figure.figsize':(8,8)})\n",
    "earning_averages = []\n",
    "for _ in range(100):\n",
    "    money = 0\n",
    "    for number_of_picks in [7]:#np.arange(1,11):\n",
    "        starting_money = 0\n",
    "        number_of_plays = 1\n",
    "        # number_of_picks = 6\n",
    "\n",
    "        bonus = True\n",
    "\n",
    "        money += play_keno(starting_money, number_of_plays, number_of_picks, bonus, strategy = None)\n",
    "    earning_averages.append(money)\n",
    "sns.distplot(earning_averages)\n",
    "plt.savefig('earnings.png')"
   ]
  },
  {
   "cell_type": "code",
   "execution_count": 506,
   "id": "793653b3-e9c8-410f-bae4-a4a013e5567c",
   "metadata": {},
   "outputs": [
    {
     "name": "stderr",
     "output_type": "stream",
     "text": [
      "/Users/uozdemir/miniforge3/envs/np_accelerate/lib/python3.9/site-packages/seaborn/distributions.py:2619: FutureWarning: `distplot` is a deprecated function and will be removed in a future version. Please adapt your code to use either `displot` (a figure-level function with similar flexibility) or `histplot` (an axes-level function for histograms).\n",
      "  warnings.warn(msg, FutureWarning)\n"
     ]
    },
    {
     "data": {
      "image/png": "[encoded data removed]",
      "text/plain": [
       "<Figure size 576x576 with 1 Axes>"
      ]
     },
     "metadata": {},
     "output_type": "display_data"
    }
   ],
   "source": [
    "sns.set(rc = {'figure.figsize':(8,8)})\n",
    "earning_averages = []\n",
    "for _ in range(100):\n",
    "    money = 0\n",
    "    for number_of_picks in [7]:#np.arange(1,11):\n",
    "        starting_money = 0\n",
    "        number_of_plays = 1\n",
    "        # number_of_picks = 6\n",
    "\n",
    "        bonus = True\n",
    "\n",
    "        money += play_keno(starting_money, number_of_plays, number_of_picks, bonus, strategy = \"fixed_set\")\n",
    "    earning_averages.append(money)\n",
    "sns.distplot(earning_averages)\n",
    "plt.savefig('earnings.png')"
   ]
  },
  {
   "cell_type": "code",
   "execution_count": 522,
   "id": "50ebf5f1-c747-4ca6-85d2-5b617e7705d8",
   "metadata": {},
   "outputs": [
    {
     "name": "stderr",
     "output_type": "stream",
     "text": [
      "/Users/uozdemir/miniforge3/envs/np_accelerate/lib/python3.9/site-packages/seaborn/distributions.py:2619: FutureWarning: `distplot` is a deprecated function and will be removed in a future version. Please adapt your code to use either `displot` (a figure-level function with similar flexibility) or `histplot` (an axes-level function for histograms).\n",
      "  warnings.warn(msg, FutureWarning)\n"
     ]
    },
    {
     "data": {
      "image/png": "[encoded data removed]",
      "text/plain": [
       "<Figure size 576x576 with 1 Axes>"
      ]
     },
     "metadata": {},
     "output_type": "display_data"
    }
   ],
   "source": [
    "sns.set(rc = {'figure.figsize':(8,8)})\n",
    "earning_averages = []\n",
    "for _ in range(100):\n",
    "    money = 0\n",
    "    for number_of_picks in [7]:#np.arange(1,11):\n",
    "        starting_money = 0\n",
    "        number_of_plays = 1\n",
    "        # number_of_picks = 6\n",
    "\n",
    "        bonus = True\n",
    "\n",
    "        money += play_keno(starting_money, number_of_plays, number_of_picks, bonus, strategy = \"look_behind\")\n",
    "    earning_averages.append(money)\n",
    "sns.distplot(earning_averages)\n",
    "plt.savefig('earnings.png')"
   ]
  },
  {
   "cell_type": "code",
   "execution_count": null,
   "id": "76f1b6b6-b995-4aa7-83e2-8bdfd523aec0",
   "metadata": {},
   "outputs": [],
   "source": []
  }
 ],
 "metadata": {
  "kernelspec": {
   "display_name": "Python 3",
   "language": "python",
   "name": "python3"
  },
  "language_info": {
   "codemirror_mode": {
    "name": "ipython",
    "version": 3
   },
   "file_extension": ".py",
   "mimetype": "text/x-python",
   "name": "python",
   "nbconvert_exporter": "python",
   "pygments_lexer": "ipython3",
   "version": "3.9.12"
  }
 },
 "nbformat": 4,
 "nbformat_minor": 5
}
